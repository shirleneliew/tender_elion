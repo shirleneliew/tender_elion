{
 "cells": [
  {
   "cell_type": "code",
   "execution_count": 60,
   "metadata": {},
   "outputs": [],
   "source": [
    "import pandas as pd\n",
    "import numpy as np\n",
    "from datetime import timedelta"
   ]
  },
  {
   "cell_type": "code",
   "execution_count": 61,
   "metadata": {},
   "outputs": [
    {
     "name": "stdout",
     "output_type": "stream",
     "text": [
      "(16917, 20)\n"
     ]
    }
   ],
   "source": [
    "symptoms = pd.read_pickle('data/processed_symptoms.pkl')\n",
    "print(symptoms.shape)\n"
   ]
  },
  {
   "cell_type": "code",
   "execution_count": 5,
   "metadata": {},
   "outputs": [],
   "source": [
    "d = {}\n",
    "for cl in range(25, 40):\n",
    "    for pl in range(2,7):\n",
    "        d[\"{}_{}\".format(cl, pl)] = 0\n",
    "        \n",
    "\n",
    "        \n",
    "for cl in range(25, 40):\n",
    "    for pl in range(2,7):\n",
    "        cld = timedelta(days=cl)\n",
    "        pld = timedelta(days=pl)\n",
    "        ll = symptoms[(symptoms.cycle_length_initial == cld) & ( symptoms.period_length_initial == pld )].shape[0]\n",
    "        d[\"{}_{}\".format(cl, pl)] = ll"
   ]
  },
  {
   "cell_type": "code",
   "execution_count": 11,
   "metadata": {},
   "outputs": [],
   "source": [
    "pp  = pd.read_csv('data/processed_symptoms.csv')"
   ]
  },
  {
   "cell_type": "code",
   "execution_count": 13,
   "metadata": {},
   "outputs": [
    {
     "name": "stdout",
     "output_type": "stream",
     "text": [
      "Index(['Unnamed: 0', 'user_id', 'acne', 'backache', 'bloating', 'cramp',\n",
      "       'diarrhea', 'dizzy', 'headache', 'mood', 'nausea', 'sore', 'date',\n",
      "       'cycle_length_initial', 'period_length_initial',\n",
      "       'period_start_cycle_start', 'period_end', 'prev_cycle_end_date',\n",
      "       'cycle_end_date', 'prev_cycle_start_date', 'cycle_percentage'],\n",
      "      dtype='object')\n"
     ]
    }
   ],
   "source": [
    "print(pp.columns)"
   ]
  },
  {
   "cell_type": "code",
   "execution_count": 18,
   "metadata": {},
   "outputs": [
    {
     "name": "stdout",
     "output_type": "stream",
     "text": [
      "<class 'pandas.core.frame.DataFrame'>\n",
      "RangeIndex: 16917 entries, 0 to 16916\n",
      "Data columns (total 21 columns):\n",
      "Unnamed: 0                  16917 non-null int64\n",
      "user_id                     16917 non-null int64\n",
      "acne                        16917 non-null int64\n",
      "backache                    16917 non-null int64\n",
      "bloating                    16917 non-null int64\n",
      "cramp                       16917 non-null int64\n",
      "diarrhea                    16917 non-null int64\n",
      "dizzy                       16917 non-null int64\n",
      "headache                    16917 non-null int64\n",
      "mood                        16917 non-null int64\n",
      "nausea                      16917 non-null int64\n",
      "sore                        16917 non-null int64\n",
      "date                        16917 non-null object\n",
      "cycle_length_initial        16917 non-null object\n",
      "period_length_initial       16917 non-null object\n",
      "period_start_cycle_start    16917 non-null object\n",
      "period_end                  16917 non-null object\n",
      "prev_cycle_end_date         16917 non-null object\n",
      "cycle_end_date              16917 non-null object\n",
      "prev_cycle_start_date       16917 non-null object\n",
      "cycle_percentage            16917 non-null float64\n",
      "dtypes: float64(1), int64(12), object(8)\n",
      "memory usage: 2.7+ MB\n",
      "None\n"
     ]
    }
   ],
   "source": [
    "print(pp.info())"
   ]
  },
  {
   "cell_type": "code",
   "execution_count": 19,
   "metadata": {},
   "outputs": [
    {
     "data": {
      "text/plain": [
       "'28 days 00:00:00.000000000'"
      ]
     },
     "execution_count": 19,
     "metadata": {},
     "output_type": "execute_result"
    }
   ],
   "source": [
    "pp.cycle_length_initial[0]"
   ]
  },
  {
   "cell_type": "code",
   "execution_count": 21,
   "metadata": {},
   "outputs": [],
   "source": [
    "def get_distribution(cl, pl):\n",
    "    similar_people = df[\n",
    "        (df.cycle_length_initial >= timedelta(days=cl - 1)) &\n",
    "        (df.cycle_length_initial <= timedelta(days=cl + 1)) &\n",
    "        (df.period_length_initial >= timedelta(days=pl - 1)) &\n",
    "        (df.period_length_initial <= timedelta(days=pl + 1))\n",
    "    ]\n",
    "    return similar_people\n"
   ]
  },
  {
   "cell_type": "code",
   "execution_count": 22,
   "metadata": {},
   "outputs": [],
   "source": [
    "df = symptoms"
   ]
  },
  {
   "cell_type": "code",
   "execution_count": 33,
   "metadata": {},
   "outputs": [],
   "source": [
    "similar_people = get_distribution(28, 5)"
   ]
  },
  {
   "cell_type": "code",
   "execution_count": 35,
   "metadata": {},
   "outputs": [],
   "source": [
    "from numpy import interp"
   ]
  },
  {
   "cell_type": "code",
   "execution_count": 62,
   "metadata": {},
   "outputs": [],
   "source": [
    "def calc_cyc_day(row):\n",
    "    row['cycle_day'] = int(row['cycle_percentage'] * 30)\n",
    "    return row"
   ]
  },
  {
   "cell_type": "code",
   "execution_count": 63,
   "metadata": {},
   "outputs": [],
   "source": [
    "symptoms = symptoms.apply(calc_cyc_day, axis=1)"
   ]
  },
  {
   "cell_type": "code",
   "execution_count": 59,
   "metadata": {},
   "outputs": [
    {
     "data": {
      "text/html": [
       "<div>\n",
       "<style scoped>\n",
       "    .dataframe tbody tr th:only-of-type {\n",
       "        vertical-align: middle;\n",
       "    }\n",
       "\n",
       "    .dataframe tbody tr th {\n",
       "        vertical-align: top;\n",
       "    }\n",
       "\n",
       "    .dataframe thead th {\n",
       "        text-align: right;\n",
       "    }\n",
       "</style>\n",
       "<table border=\"1\" class=\"dataframe\">\n",
       "  <thead>\n",
       "    <tr style=\"text-align: right;\">\n",
       "      <th></th>\n",
       "      <th>user_id</th>\n",
       "      <th>acne</th>\n",
       "      <th>backache</th>\n",
       "      <th>bloating</th>\n",
       "      <th>cramp</th>\n",
       "      <th>diarrhea</th>\n",
       "      <th>dizzy</th>\n",
       "      <th>headache</th>\n",
       "      <th>mood</th>\n",
       "      <th>nausea</th>\n",
       "      <th>sore</th>\n",
       "      <th>date</th>\n",
       "      <th>cycle_length_initial</th>\n",
       "      <th>period_length_initial</th>\n",
       "      <th>period_start_cycle_start</th>\n",
       "      <th>period_end</th>\n",
       "      <th>prev_cycle_end_date</th>\n",
       "      <th>cycle_end_date</th>\n",
       "      <th>prev_cycle_start_date</th>\n",
       "      <th>cycle_percentage</th>\n",
       "    </tr>\n",
       "  </thead>\n",
       "  <tbody>\n",
       "    <tr>\n",
       "      <th>0</th>\n",
       "      <td>252</td>\n",
       "      <td>0</td>\n",
       "      <td>0</td>\n",
       "      <td>0</td>\n",
       "      <td>0</td>\n",
       "      <td>0</td>\n",
       "      <td>0</td>\n",
       "      <td>0</td>\n",
       "      <td>0</td>\n",
       "      <td>0</td>\n",
       "      <td>0</td>\n",
       "      <td>2015-04-11</td>\n",
       "      <td>28 days</td>\n",
       "      <td>6 days</td>\n",
       "      <td>2015-04-05</td>\n",
       "      <td>2015-04-10</td>\n",
       "      <td>2015-04-04</td>\n",
       "      <td>2015-05-03</td>\n",
       "      <td>2015-03-07</td>\n",
       "      <td>0.214286</td>\n",
       "    </tr>\n",
       "    <tr>\n",
       "      <th>5</th>\n",
       "      <td>263</td>\n",
       "      <td>0</td>\n",
       "      <td>0</td>\n",
       "      <td>0</td>\n",
       "      <td>0</td>\n",
       "      <td>0</td>\n",
       "      <td>0</td>\n",
       "      <td>0</td>\n",
       "      <td>0</td>\n",
       "      <td>0</td>\n",
       "      <td>0</td>\n",
       "      <td>2015-04-11</td>\n",
       "      <td>28 days</td>\n",
       "      <td>4 days</td>\n",
       "      <td>2015-04-07</td>\n",
       "      <td>2015-04-10</td>\n",
       "      <td>2015-04-06</td>\n",
       "      <td>2015-05-05</td>\n",
       "      <td>2015-03-09</td>\n",
       "      <td>0.142857</td>\n",
       "    </tr>\n",
       "    <tr>\n",
       "      <th>6</th>\n",
       "      <td>269</td>\n",
       "      <td>0</td>\n",
       "      <td>0</td>\n",
       "      <td>0</td>\n",
       "      <td>0</td>\n",
       "      <td>0</td>\n",
       "      <td>0</td>\n",
       "      <td>0</td>\n",
       "      <td>0</td>\n",
       "      <td>0</td>\n",
       "      <td>0</td>\n",
       "      <td>2015-04-11</td>\n",
       "      <td>28 days</td>\n",
       "      <td>8 days</td>\n",
       "      <td>2015-04-04</td>\n",
       "      <td>2015-04-11</td>\n",
       "      <td>2015-04-03</td>\n",
       "      <td>2015-05-02</td>\n",
       "      <td>2015-03-06</td>\n",
       "      <td>0.250000</td>\n",
       "    </tr>\n",
       "    <tr>\n",
       "      <th>17</th>\n",
       "      <td>270</td>\n",
       "      <td>0</td>\n",
       "      <td>0</td>\n",
       "      <td>0</td>\n",
       "      <td>0</td>\n",
       "      <td>0</td>\n",
       "      <td>0</td>\n",
       "      <td>0</td>\n",
       "      <td>0</td>\n",
       "      <td>0</td>\n",
       "      <td>0</td>\n",
       "      <td>2015-04-11</td>\n",
       "      <td>28 days</td>\n",
       "      <td>6 days</td>\n",
       "      <td>2015-04-03</td>\n",
       "      <td>2015-04-08</td>\n",
       "      <td>2015-04-02</td>\n",
       "      <td>2015-05-01</td>\n",
       "      <td>2015-03-05</td>\n",
       "      <td>0.285714</td>\n",
       "    </tr>\n",
       "    <tr>\n",
       "      <th>18</th>\n",
       "      <td>271</td>\n",
       "      <td>0</td>\n",
       "      <td>0</td>\n",
       "      <td>15</td>\n",
       "      <td>22</td>\n",
       "      <td>0</td>\n",
       "      <td>0</td>\n",
       "      <td>0</td>\n",
       "      <td>47</td>\n",
       "      <td>0</td>\n",
       "      <td>37</td>\n",
       "      <td>2015-04-11</td>\n",
       "      <td>32 days</td>\n",
       "      <td>6 days</td>\n",
       "      <td>2015-03-11</td>\n",
       "      <td>2015-03-16</td>\n",
       "      <td>2015-03-10</td>\n",
       "      <td>2015-04-12</td>\n",
       "      <td>2015-02-06</td>\n",
       "      <td>0.968750</td>\n",
       "    </tr>\n",
       "  </tbody>\n",
       "</table>\n",
       "</div>"
      ],
      "text/plain": [
       "    user_id  acne  backache  bloating  cramp  diarrhea  dizzy  headache  mood  \\\n",
       "0       252     0         0         0      0         0      0         0     0   \n",
       "5       263     0         0         0      0         0      0         0     0   \n",
       "6       269     0         0         0      0         0      0         0     0   \n",
       "17      270     0         0         0      0         0      0         0     0   \n",
       "18      271     0         0        15     22         0      0         0    47   \n",
       "\n",
       "    nausea  sore       date cycle_length_initial period_length_initial  \\\n",
       "0        0     0 2015-04-11              28 days                6 days   \n",
       "5        0     0 2015-04-11              28 days                4 days   \n",
       "6        0     0 2015-04-11              28 days                8 days   \n",
       "17       0     0 2015-04-11              28 days                6 days   \n",
       "18       0    37 2015-04-11              32 days                6 days   \n",
       "\n",
       "   period_start_cycle_start period_end prev_cycle_end_date cycle_end_date  \\\n",
       "0                2015-04-05 2015-04-10          2015-04-04     2015-05-03   \n",
       "5                2015-04-07 2015-04-10          2015-04-06     2015-05-05   \n",
       "6                2015-04-04 2015-04-11          2015-04-03     2015-05-02   \n",
       "17               2015-04-03 2015-04-08          2015-04-02     2015-05-01   \n",
       "18               2015-03-11 2015-03-16          2015-03-10     2015-04-12   \n",
       "\n",
       "   prev_cycle_start_date  cycle_percentage  \n",
       "0             2015-03-07          0.214286  \n",
       "5             2015-03-09          0.142857  \n",
       "6             2015-03-06          0.250000  \n",
       "17            2015-03-05          0.285714  \n",
       "18            2015-02-06          0.968750  "
      ]
     },
     "execution_count": 59,
     "metadata": {},
     "output_type": "execute_result"
    }
   ],
   "source": [
    "symptoms.head()"
   ]
  },
  {
   "cell_type": "code",
   "execution_count": 54,
   "metadata": {},
   "outputs": [
    {
     "data": {
      "text/plain": [
       "(16917, 20)"
      ]
     },
     "execution_count": 54,
     "metadata": {},
     "output_type": "execute_result"
    }
   ],
   "source": [
    "symptoms.shape"
   ]
  },
  {
   "cell_type": "code",
   "execution_count": 65,
   "metadata": {},
   "outputs": [
    {
     "data": {
      "text/plain": [
       "user_id                                     252\n",
       "acne                                          0\n",
       "backache                                      0\n",
       "bloating                                      0\n",
       "cramp                                         0\n",
       "diarrhea                                      0\n",
       "dizzy                                         0\n",
       "headache                                      0\n",
       "mood                                          0\n",
       "nausea                                        0\n",
       "sore                                          0\n",
       "date                        2015-04-11 00:00:00\n",
       "cycle_length_initial           28 days 00:00:00\n",
       "period_length_initial           6 days 00:00:00\n",
       "period_start_cycle_start    2015-04-05 00:00:00\n",
       "period_end                  2015-04-10 00:00:00\n",
       "prev_cycle_end_date         2015-04-04 00:00:00\n",
       "cycle_end_date              2015-05-03 00:00:00\n",
       "prev_cycle_start_date       2015-03-07 00:00:00\n",
       "cycle_percentage                       0.214286\n",
       "cycle_day                                     6\n",
       "Name: 0, dtype: object"
      ]
     },
     "execution_count": 65,
     "metadata": {},
     "output_type": "execute_result"
    }
   ],
   "source": [
    "symptoms.iloc[0]"
   ]
  },
  {
   "cell_type": "code",
   "execution_count": 66,
   "metadata": {},
   "outputs": [],
   "source": [
    "import numpy as np"
   ]
  },
  {
   "cell_type": "code",
   "execution_count": 68,
   "metadata": {},
   "outputs": [
    {
     "data": {
      "text/plain": [
       "array([[0.],\n",
       "       [0.],\n",
       "       [0.],\n",
       "       [0.],\n",
       "       [0.],\n",
       "       [0.],\n",
       "       [0.],\n",
       "       [0.],\n",
       "       [0.],\n",
       "       [0.]])"
      ]
     },
     "execution_count": 68,
     "metadata": {},
     "output_type": "execute_result"
    }
   ],
   "source": [
    "np.zeros(10).reshape(-1,1)"
   ]
  },
  {
   "cell_type": "code",
   "execution_count": 70,
   "metadata": {},
   "outputs": [
    {
     "data": {
      "text/plain": [
       "array([1, 2, 3])"
      ]
     },
     "execution_count": 70,
     "metadata": {},
     "output_type": "execute_result"
    }
   ],
   "source": [
    "np.array([1,2,3])"
   ]
  },
  {
   "cell_type": "code",
   "execution_count": null,
   "metadata": {},
   "outputs": [],
   "source": []
  }
 ],
 "metadata": {
  "kernelspec": {
   "display_name": "Python 3",
   "language": "python",
   "name": "python3"
  },
  "language_info": {
   "codemirror_mode": {
    "name": "ipython",
    "version": 3
   },
   "file_extension": ".py",
   "mimetype": "text/x-python",
   "name": "python",
   "nbconvert_exporter": "python",
   "pygments_lexer": "ipython3",
   "version": "3.6.7"
  }
 },
 "nbformat": 4,
 "nbformat_minor": 2
}
