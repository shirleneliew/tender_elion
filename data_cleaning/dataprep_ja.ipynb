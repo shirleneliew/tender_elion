{
 "cells": [
  {
   "cell_type": "code",
   "execution_count": 5,
   "metadata": {},
   "outputs": [],
   "source": [
    "import numpy as np\n",
    "import pandas as pd"
   ]
  },
  {
   "cell_type": "code",
   "execution_count": 6,
   "metadata": {},
   "outputs": [],
   "source": [
    "# import data into dataframes\n",
    "\n",
    "user_df = pd.read_csv('User.csv')\n",
    "symptom_df = pd.read_csv('Symptom.csv')\n",
    "period_df = pd.read_csv('Period.csv')"
   ]
  },
  {
   "cell_type": "code",
   "execution_count": 7,
   "metadata": {},
   "outputs": [],
   "source": [
    "# clean up headers\n",
    "period_df = period_df.rename(index=str, columns={\"start_date\": \"period_start_cycle_start\", \"end_date\": \"period_end\"})\n",
    "user_df = user_df.rename(index=str, columns={\"id\":\"user_id\"})\n",
    "period_df = period_df.rename(index=str, columns={\"User_id\":\"user_id\"})"
   ]
  },
  {
   "cell_type": "code",
   "execution_count": 8,
   "metadata": {},
   "outputs": [],
   "source": [
    "# Merge onboarding data with period time data\n",
    "df_new = pd.merge(user_df, period_df, on='user_id')"
   ]
  },
  {
   "cell_type": "code",
   "execution_count": 9,
   "metadata": {},
   "outputs": [],
   "source": [
    "# Convert period_start to datetime and drop NaTs (since there are only 8)\n",
    "df_new['period_start_cycle_start'] = pd.to_datetime(df_new['period_start_cycle_start'], errors='coerce', dayfirst=True)\n",
    "df_new['period_end'] = pd.to_datetime(df_new['period_end'], errors='coerce', dayfirst=True)\n",
    "df_new.dropna(subset=['period_start_cycle_start'], inplace=True)"
   ]
  },
  {
   "cell_type": "code",
   "execution_count": 10,
   "metadata": {},
   "outputs": [],
   "source": [
    "# Convert onboarding data to timedeltas\n",
    "df_new['cycle_length_initial'] = pd.to_timedelta(df_new['cycle_length_initial'], unit=\"D\")\n",
    "df_new['period_length_initial'] = pd.to_timedelta(df_new['period_length_initial'], unit=\"D\")"
   ]
  },
  {
   "cell_type": "code",
   "execution_count": 11,
   "metadata": {},
   "outputs": [],
   "source": [
    "# Input data to period end where there is a NaN\n",
    "df_new.loc[pd.isnull(df_new.period_end), 'period_end'] = df_new.period_start_cycle_start + df_new.period_length_initial"
   ]
  },
  {
   "cell_type": "code",
   "execution_count": 12,
   "metadata": {},
   "outputs": [],
   "source": [
    "# Calculate cycle and previous cycle data\n",
    "df_new['prev_cycle_end_date'] = df_new.period_start_cycle_start - pd.Timedelta(days=1)\n",
    "df_new['cycle_end_date'] = df_new.period_start_cycle_start + df_new.cycle_length_initial"
   ]
  },
  {
   "cell_type": "code",
   "execution_count": 13,
   "metadata": {},
   "outputs": [
    {
     "name": "stdout",
     "output_type": "stream",
     "text": [
      "<class 'pandas.core.frame.DataFrame'>\n",
      "Int64Index: 34934 entries, 0 to 34941\n",
      "Data columns (total 9 columns):\n",
      "user_id                     34934 non-null int64\n",
      "dob                         4086 non-null object\n",
      "cycle_length_initial        34934 non-null timedelta64[ns]\n",
      "period_length_initial       34934 non-null timedelta64[ns]\n",
      "id                          34934 non-null int64\n",
      "period_start_cycle_start    34934 non-null datetime64[ns]\n",
      "period_end                  34934 non-null datetime64[ns]\n",
      "prev_cycle_end_date         34934 non-null datetime64[ns]\n",
      "cycle_end_date              34934 non-null datetime64[ns]\n",
      "dtypes: datetime64[ns](4), int64(2), object(1), timedelta64[ns](2)\n",
      "memory usage: 3.9+ MB\n"
     ]
    }
   ],
   "source": [
    "df_new.info()"
   ]
  },
  {
   "cell_type": "code",
   "execution_count": 14,
   "metadata": {},
   "outputs": [],
   "source": [
    "df_new.to_csv(\"periods_cleaned.csv\")"
   ]
  },
  {
   "cell_type": "code",
   "execution_count": 21,
   "metadata": {},
   "outputs": [
    {
     "data": {
      "text/html": [
       "<div>\n",
       "<style scoped>\n",
       "    .dataframe tbody tr th:only-of-type {\n",
       "        vertical-align: middle;\n",
       "    }\n",
       "\n",
       "    .dataframe tbody tr th {\n",
       "        vertical-align: top;\n",
       "    }\n",
       "\n",
       "    .dataframe thead th {\n",
       "        text-align: right;\n",
       "    }\n",
       "</style>\n",
       "<table border=\"1\" class=\"dataframe\">\n",
       "  <thead>\n",
       "    <tr style=\"text-align: right;\">\n",
       "      <th></th>\n",
       "      <th>user_id</th>\n",
       "      <th>cycle_length_initial</th>\n",
       "      <th>period_length_initial</th>\n",
       "      <th>id</th>\n",
       "    </tr>\n",
       "  </thead>\n",
       "  <tbody>\n",
       "    <tr>\n",
       "      <th>count</th>\n",
       "      <td>34934.000000</td>\n",
       "      <td>34934.0</td>\n",
       "      <td>34934</td>\n",
       "      <td>34934.000000</td>\n",
       "    </tr>\n",
       "    <tr>\n",
       "      <th>mean</th>\n",
       "      <td>3427.903933</td>\n",
       "      <td>25.0</td>\n",
       "      <td>5 days 13:59:54.641323</td>\n",
       "      <td>19894.689185</td>\n",
       "    </tr>\n",
       "    <tr>\n",
       "      <th>std</th>\n",
       "      <td>1856.803985</td>\n",
       "      <td>0.0</td>\n",
       "      <td>2 days 04:55:12.081001</td>\n",
       "      <td>11015.079702</td>\n",
       "    </tr>\n",
       "    <tr>\n",
       "      <th>min</th>\n",
       "      <td>252.000000</td>\n",
       "      <td>25.0</td>\n",
       "      <td>2 days 00:00:00</td>\n",
       "      <td>352.000000</td>\n",
       "    </tr>\n",
       "    <tr>\n",
       "      <th>25%</th>\n",
       "      <td>1804.000000</td>\n",
       "      <td>25.0</td>\n",
       "      <td>4 days 00:00:00</td>\n",
       "      <td>10359.250000</td>\n",
       "    </tr>\n",
       "    <tr>\n",
       "      <th>50%</th>\n",
       "      <td>3364.000000</td>\n",
       "      <td>25.0</td>\n",
       "      <td>5 days 00:00:00</td>\n",
       "      <td>19964.500000</td>\n",
       "    </tr>\n",
       "    <tr>\n",
       "      <th>75%</th>\n",
       "      <td>4908.000000</td>\n",
       "      <td>25.0</td>\n",
       "      <td>7 days 00:00:00</td>\n",
       "      <td>29441.750000</td>\n",
       "    </tr>\n",
       "    <tr>\n",
       "      <th>max</th>\n",
       "      <td>7055.000000</td>\n",
       "      <td>25.0</td>\n",
       "      <td>51 days 00:00:00</td>\n",
       "      <td>38809.000000</td>\n",
       "    </tr>\n",
       "  </tbody>\n",
       "</table>\n",
       "</div>"
      ],
      "text/plain": [
       "            user_id  cycle_length_initial   period_length_initial  \\\n",
       "count  34934.000000               34934.0                   34934   \n",
       "mean    3427.903933                  25.0  5 days 13:59:54.641323   \n",
       "std     1856.803985                   0.0  2 days 04:55:12.081001   \n",
       "min      252.000000                  25.0         2 days 00:00:00   \n",
       "25%     1804.000000                  25.0         4 days 00:00:00   \n",
       "50%     3364.000000                  25.0         5 days 00:00:00   \n",
       "75%     4908.000000                  25.0         7 days 00:00:00   \n",
       "max     7055.000000                  25.0        51 days 00:00:00   \n",
       "\n",
       "                 id  \n",
       "count  34934.000000  \n",
       "mean   19894.689185  \n",
       "std    11015.079702  \n",
       "min      352.000000  \n",
       "25%    10359.250000  \n",
       "50%    19964.500000  \n",
       "75%    29441.750000  \n",
       "max    38809.000000  "
      ]
     },
     "execution_count": 21,
     "metadata": {},
     "output_type": "execute_result"
    }
   ],
   "source": [
    "df_new.describe()"
   ]
  },
  {
   "cell_type": "code",
   "execution_count": null,
   "metadata": {},
   "outputs": [],
   "source": []
  }
 ],
 "metadata": {
  "kernelspec": {
   "display_name": "Python 3",
   "language": "python",
   "name": "python3"
  },
  "language_info": {
   "codemirror_mode": {
    "name": "ipython",
    "version": 3
   },
   "file_extension": ".py",
   "mimetype": "text/x-python",
   "name": "python",
   "nbconvert_exporter": "python",
   "pygments_lexer": "ipython3",
   "version": "3.6.7"
  }
 },
 "nbformat": 4,
 "nbformat_minor": 2
}
