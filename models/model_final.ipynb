{
 "cells": [
  {
   "cell_type": "code",
   "execution_count": 1,
   "metadata": {},
   "outputs": [],
   "source": [
    "# Step 1, import required libraries\n",
    "import numpy as np\n",
    "import pandas as pd\n",
    "import matplotlib.pyplot as plt\n",
    "import seaborn as sns\n",
    "\n",
    "%matplotlib inline\n",
    "%config InlineBackend.figure_format = 'retina'\n",
    "\n",
    "from sklearn.linear_model import LinearRegression\n",
    "from sklearn.model_selection import cross_val_score, cross_val_predict, GridSearchCV\n",
    "from sklearn.model_selection import GridSearchCV\n",
    "from sklearn.ensemble import RandomForestRegressor\n",
    "from sklearn.metrics import r2_score\n",
    "from sklearn.model_selection import train_test_split\n",
    "import pickle"
   ]
  },
  {
   "cell_type": "code",
   "execution_count": 2,
   "metadata": {},
   "outputs": [
    {
     "name": "stdout",
     "output_type": "stream",
     "text": [
      "The shape of the dataset is:  (16917, 20)\n",
      "The coluumns of this model are:  Index(['user_id', 'acne', 'backache', 'bloating', 'cramp', 'diarrhea', 'dizzy',\n",
      "       'headache', 'mood', 'nausea', 'sore', 'date', 'cycle_length_initial',\n",
      "       'period_length_initial', 'period_start_cycle_start', 'period_end',\n",
      "       'prev_cycle_end_date', 'cycle_end_date', 'prev_cycle_start_date',\n",
      "       'cycle_percentage'],\n",
      "      dtype='object')\n"
     ]
    }
   ],
   "source": [
    "# Import dataset\n",
    "model_df = pd.read_pickle(\"processed_symptoms.pkl\")\n",
    "print(\"The shape of the dataset is: \", model_df.shape)\n",
    "print(\"The coluumns of this model are: \", model_df.columns)"
   ]
  },
  {
   "cell_type": "code",
   "execution_count": 3,
   "metadata": {},
   "outputs": [],
   "source": [
    "# Step 2, create predictor and target variables\n",
    "\n",
    "X_cramp = model_df[['acne','backache', 'bloating', 'diarrhea', 'dizzy', 'headache', 'mood', 'nausea', 'sore', 'cycle_percentage']]\n",
    "y_cramp = model_df.cramp.values\n",
    "\n",
    "X_bloating = model_df[['acne','backache', 'cramp', 'diarrhea', 'dizzy', 'headache', 'mood', 'nausea', 'sore', 'cycle_percentage']]\n",
    "y_bloating = model_df.bloating.values\n",
    "\n",
    "X_mood = model_df[['acne','backache', 'bloating', 'diarrhea', 'dizzy', 'headache', 'cramp', 'nausea', 'sore', 'cycle_percentage']]\n",
    "y_mood = model_df.mood.values\n"
   ]
  },
  {
   "cell_type": "code",
   "execution_count": 4,
   "metadata": {},
   "outputs": [
    {
     "name": "stdout",
     "output_type": "stream",
     "text": [
      "CV and mean scores for cramp linear regression:  [0.26628763 0.25879024 0.25829416] 0.2611240102022768\n",
      "CV and mean scores for bloating linear regression:  [0.26948945 0.25093623 0.23305846] 0.251161378647387\n",
      "CV and mean scores for mood linear regression:  [0.18452939 0.21651262 0.17791852] 0.19298684060364749\n"
     ]
    }
   ],
   "source": [
    "# Step 3, cross validate a linear regresion for comparison to the regression tree)\n",
    "\n",
    "# cross val Linear Reg with 4 folds\n",
    "reg_score1 = cross_val_score(LinearRegression(), X_cramp, y_cramp, cv=3)\n",
    "reg_score2 = cross_val_score(LinearRegression(), X_bloating, y_bloating, cv=3)\n",
    "reg_score3 = cross_val_score(LinearRegression(), X_mood, y_mood, cv=3)\n",
    "\n",
    "#get scores\n",
    "print(\"CV and mean scores for cramp linear regression: \", reg_score1, np.mean(reg_score1))\n",
    "print(\"CV and mean scores for bloating linear regression: \", reg_score2, np.mean(reg_score2))\n",
    "print(\"CV and mean scores for mood linear regression: \", reg_score3, np.mean(reg_score3))"
   ]
  },
  {
   "cell_type": "code",
   "execution_count": 5,
   "metadata": {},
   "outputs": [
    {
     "name": "stdout",
     "output_type": "stream",
     "text": [
      "Fitting 3 folds for each of 20 candidates, totalling 60 fits\n"
     ]
    },
    {
     "name": "stderr",
     "output_type": "stream",
     "text": [
      "[Parallel(n_jobs=-1)]: Using backend LokyBackend with 4 concurrent workers.\n",
      "[Parallel(n_jobs=-1)]: Done  42 tasks      | elapsed:   42.1s\n",
      "[Parallel(n_jobs=-1)]: Done  60 out of  60 | elapsed:  1.2min finished\n"
     ]
    }
   ],
   "source": [
    "# Step 4a: Perform Grid-Search on a Random Forest Regressor for cramps\n",
    "gsc = GridSearchCV(\n",
    "estimator=RandomForestRegressor(),\n",
    "param_grid={\n",
    "            'max_depth': (5,10, 15, 20),\n",
    "            'n_estimators': (10, 50, 100, 200, 50),\n",
    "        }, \n",
    "cv=3, scoring='r2', verbose=1, n_jobs=-1)\n",
    "    \n",
    "grid_result = gsc.fit(X_cramp, y_cramp)\n",
    "best_params = grid_result.best_params_"
   ]
  },
  {
   "cell_type": "code",
   "execution_count": 6,
   "metadata": {},
   "outputs": [
    {
     "name": "stdout",
     "output_type": "stream",
     "text": [
      "Fitting 3 folds for each of 20 candidates, totalling 60 fits\n"
     ]
    },
    {
     "name": "stderr",
     "output_type": "stream",
     "text": [
      "[Parallel(n_jobs=-1)]: Using backend LokyBackend with 4 concurrent workers.\n",
      "[Parallel(n_jobs=-1)]: Done  42 tasks      | elapsed:   31.1s\n",
      "[Parallel(n_jobs=-1)]: Done  60 out of  60 | elapsed:   53.1s finished\n"
     ]
    }
   ],
   "source": [
    "# Step 4b: Perform Grid-Search on a Random Forest Regressor for cramps\n",
    "gsc = GridSearchCV(\n",
    "estimator=RandomForestRegressor(),\n",
    "param_grid={\n",
    "            'max_depth': (5,10, 15, 20),\n",
    "            'n_estimators': (10, 50, 100, 200, 50),\n",
    "        }, \n",
    "cv=3, scoring='r2', verbose=1, n_jobs=-1)\n",
    "    \n",
    "grid_result = gsc.fit(X_bloating, y_bloating)\n",
    "best_params_bloating = grid_result.best_params_"
   ]
  },
  {
   "cell_type": "code",
   "execution_count": 7,
   "metadata": {},
   "outputs": [
    {
     "name": "stdout",
     "output_type": "stream",
     "text": [
      "Fitting 3 folds for each of 20 candidates, totalling 60 fits\n"
     ]
    },
    {
     "name": "stderr",
     "output_type": "stream",
     "text": [
      "[Parallel(n_jobs=-1)]: Using backend LokyBackend with 4 concurrent workers.\n",
      "[Parallel(n_jobs=-1)]: Done  42 tasks      | elapsed:   34.5s\n",
      "[Parallel(n_jobs=-1)]: Done  60 out of  60 | elapsed:   57.0s finished\n"
     ]
    }
   ],
   "source": [
    "# Step 4c: Perform Grid-Search on a Random Forest Regressor for cramps\n",
    "gsc = GridSearchCV(\n",
    "estimator=RandomForestRegressor(),\n",
    "param_grid={\n",
    "            'max_depth': (5,10, 15, 20),\n",
    "            'n_estimators': (10, 50, 100, 200, 50),\n",
    "        }, \n",
    "cv=3, scoring='r2', verbose=1, n_jobs=-1)\n",
    "    \n",
    "grid_result = gsc.fit(X_mood, y_mood)\n",
    "best_params_mood = grid_result.best_params_"
   ]
  },
  {
   "cell_type": "code",
   "execution_count": 8,
   "metadata": {},
   "outputs": [
    {
     "name": "stdout",
     "output_type": "stream",
     "text": [
      "{'max_depth': 20, 'n_estimators': 100}\n",
      "{'max_depth': 20, 'n_estimators': 200}\n",
      "{'max_depth': 20, 'n_estimators': 200}\n"
     ]
    }
   ],
   "source": [
    "best_params_cramps = best_params\n",
    "print(best_params_cramps)\n",
    "print(best_params_bloating)\n",
    "print(best_params_mood)"
   ]
  },
  {
   "cell_type": "code",
   "execution_count": 9,
   "metadata": {},
   "outputs": [],
   "source": [
    "# Step 5a, create a random forest regressor with the best parameters\n",
    "rfr = RandomForestRegressor(max_depth=best_params[\"max_depth\"], \n",
    "                            n_estimators=best_params[\"n_estimators\"],                               \n",
    "                            random_state=42, \n",
    "                            verbose=True)"
   ]
  },
  {
   "cell_type": "code",
   "execution_count": 10,
   "metadata": {},
   "outputs": [],
   "source": [
    "# Step 5b-1, perform K-Fold CV for cramps\n",
    "scores_cramp = cross_val_score(rfr, X_cramp, y_cramp, cv=3, scoring='r2', n_jobs=-1)"
   ]
  },
  {
   "cell_type": "code",
   "execution_count": 11,
   "metadata": {},
   "outputs": [],
   "source": [
    "# Step 5b-2, perform K-Fold CV for bloating\n",
    "scores_bloating = cross_val_score(rfr, X_bloating, y_bloating, cv=3, scoring='r2', n_jobs=-1)"
   ]
  },
  {
   "cell_type": "code",
   "execution_count": 12,
   "metadata": {},
   "outputs": [],
   "source": [
    "# Step 5b-3, perform K-Fold CV for bloating\n",
    "scores_mood = cross_val_score(rfr, X_mood, y_mood, cv=3, scoring='r2', n_jobs=-1)"
   ]
  },
  {
   "cell_type": "code",
   "execution_count": 13,
   "metadata": {},
   "outputs": [
    {
     "name": "stdout",
     "output_type": "stream",
     "text": [
      "Scores for cramps:  [0.36807113 0.38658725 0.42711262] 0.3939236663585486\n",
      "Scores for bloating:  [0.44496839 0.42781231 0.53267052] 0.46848374109808044\n",
      "Scores for mood:  [0.36147523 0.39104552 0.47365559] 0.4087254435566627\n"
     ]
    }
   ],
   "source": [
    "print(\"Scores for cramps: \", scores_cramp, np.mean(scores_cramp))\n",
    "print(\"Scores for bloating: \", scores_bloating, np.mean(scores_bloating))\n",
    "print(\"Scores for mood: \", scores_mood, np.mean(scores_mood))"
   ]
  },
  {
   "cell_type": "code",
   "execution_count": 14,
   "metadata": {},
   "outputs": [],
   "source": [
    "# Step 6, create predictions using model\n",
    "\n",
    "# Create splits for cramps\n",
    "X_train_cramp, X_test_cramp, y_train_cramp, y_test_cramp = train_test_split(X_cramp, y_cramp, test_size=0.2)\n",
    "\n",
    "# Create splits for bloating\n",
    "X_train_bloating, X_test_bloating, y_train_bloating, y_test_bloating = train_test_split(X_bloating, y_bloating, test_size=0.2)\n",
    "\n",
    "# Create splits for mood\n",
    "X_train_mood, X_test_mood, y_train_mood, y_test_mood = train_test_split(X_mood, y_mood, test_size=0.2)\n"
   ]
  },
  {
   "cell_type": "code",
   "execution_count": 15,
   "metadata": {},
   "outputs": [
    {
     "name": "stderr",
     "output_type": "stream",
     "text": [
      "[Parallel(n_jobs=1)]: Using backend SequentialBackend with 1 concurrent workers.\n",
      "[Parallel(n_jobs=1)]: Done 100 out of 100 | elapsed:    4.0s finished\n",
      "[Parallel(n_jobs=1)]: Using backend SequentialBackend with 1 concurrent workers.\n",
      "[Parallel(n_jobs=1)]: Done 100 out of 100 | elapsed:    0.1s finished\n"
     ]
    }
   ],
   "source": [
    "# Fit and Predict cramps\n",
    "rfr.fit(X_train_cramp, y_train_cramp)\n",
    "y_pred_cramp = rfr.predict(X_test_cramp)"
   ]
  },
  {
   "cell_type": "code",
   "execution_count": 16,
   "metadata": {},
   "outputs": [
    {
     "name": "stderr",
     "output_type": "stream",
     "text": [
      "[Parallel(n_jobs=1)]: Using backend SequentialBackend with 1 concurrent workers.\n",
      "[Parallel(n_jobs=1)]: Done 100 out of 100 | elapsed:    4.3s finished\n",
      "[Parallel(n_jobs=1)]: Using backend SequentialBackend with 1 concurrent workers.\n",
      "[Parallel(n_jobs=1)]: Done 100 out of 100 | elapsed:    0.1s finished\n"
     ]
    }
   ],
   "source": [
    "# Fit and Predict bloating\n",
    "rfr.fit(X_train_bloating, y_train_bloating)\n",
    "y_pred_bloating = rfr.predict(X_test_bloating)"
   ]
  },
  {
   "cell_type": "code",
   "execution_count": 17,
   "metadata": {},
   "outputs": [
    {
     "name": "stderr",
     "output_type": "stream",
     "text": [
      "[Parallel(n_jobs=1)]: Using backend SequentialBackend with 1 concurrent workers.\n",
      "[Parallel(n_jobs=1)]: Done 100 out of 100 | elapsed:    4.0s finished\n",
      "[Parallel(n_jobs=1)]: Using backend SequentialBackend with 1 concurrent workers.\n",
      "[Parallel(n_jobs=1)]: Done 100 out of 100 | elapsed:    0.1s finished\n"
     ]
    }
   ],
   "source": [
    "# Fit and Predict mood\n",
    "rfr.fit(X_train_mood, y_train_mood)\n",
    "y_pred_mood = rfr.predict(X_test_mood)"
   ]
  },
  {
   "cell_type": "code",
   "execution_count": 18,
   "metadata": {},
   "outputs": [
    {
     "name": "stdout",
     "output_type": "stream",
     "text": [
      "R-squared score for cramp prediction:  0.37950536752347397\n",
      "R-squared score for bloating prediction:  0.42888813422319194\n",
      "R-squared score for mood prediction:  0.3979736649767188\n"
     ]
    }
   ],
   "source": [
    "print(\"R-squared score for cramp prediction: \", r2_score(y_test_cramp, y_pred_cramp))\n",
    "print(\"R-squared score for bloating prediction: \", r2_score(y_test_bloating, y_pred_bloating))\n",
    "print(\"R-squared score for mood prediction: \", r2_score(y_test_mood, y_pred_mood))"
   ]
  },
  {
   "cell_type": "code",
   "execution_count": null,
   "metadata": {},
   "outputs": [],
   "source": []
  },
  {
   "cell_type": "code",
   "execution_count": null,
   "metadata": {},
   "outputs": [],
   "source": []
  }
 ],
 "metadata": {
  "kernelspec": {
   "display_name": "Python 3",
   "language": "python",
   "name": "python3"
  },
  "language_info": {
   "codemirror_mode": {
    "name": "ipython",
    "version": 3
   },
   "file_extension": ".py",
   "mimetype": "text/x-python",
   "name": "python",
   "nbconvert_exporter": "python",
   "pygments_lexer": "ipython3",
   "version": "3.6.6"
  }
 },
 "nbformat": 4,
 "nbformat_minor": 2
}
