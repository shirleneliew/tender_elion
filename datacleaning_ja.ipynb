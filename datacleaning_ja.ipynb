{
 "cells": [
  {
   "cell_type": "code",
   "execution_count": 151,
   "metadata": {},
   "outputs": [],
   "source": [
    "import numpy as np\n",
    "import pandas as pd\n",
    "import datetime"
   ]
  },
  {
   "cell_type": "code",
   "execution_count": 152,
   "metadata": {},
   "outputs": [],
   "source": [
    "user_df = pd.read_csv('User.csv')\n"
   ]
  },
  {
   "cell_type": "code",
   "execution_count": 153,
   "metadata": {},
   "outputs": [],
   "source": [
    "symptom_df = pd.read_csv('Symptom.csv')"
   ]
  },
  {
   "cell_type": "code",
   "execution_count": 154,
   "metadata": {},
   "outputs": [],
   "source": [
    "period_df = pd.read_csv('periods_cleaned.csv')"
   ]
  },
  {
   "cell_type": "code",
   "execution_count": 155,
   "metadata": {},
   "outputs": [],
   "source": [
    "period_df = period_df.rename(index=str, columns={\"start_date\": \"period_start\", \"end_date\": \"period_end\"})"
   ]
  },
  {
   "cell_type": "code",
   "execution_count": 156,
   "metadata": {},
   "outputs": [
    {
     "name": "stdout",
     "output_type": "stream",
     "text": [
      "    id  dob  cycle_length_initial  period_length_initial\n",
      "0  252  NaN                    28                      6\n",
      "1  253  NaN                    30                      5\n",
      "2  254  NaN                    28                      6\n",
      "3  255  NaN                    30                      4\n",
      "4  256  NaN                    25                      6\n"
     ]
    }
   ],
   "source": [
    "print(user_df.head())"
   ]
  },
  {
   "cell_type": "code",
   "execution_count": 157,
   "metadata": {},
   "outputs": [
    {
     "name": "stdout",
     "output_type": "stream",
     "text": [
      "(13512, 13) (34934, 10)\n"
     ]
    }
   ],
   "source": [
    "print(symptom_df.shape, period_df.shape)"
   ]
  },
  {
   "cell_type": "code",
   "execution_count": 158,
   "metadata": {},
   "outputs": [],
   "source": [
    "# user_df = user_df.rename(index=str, columns={\"id\":\"user_id\"})\n",
    "# period_df = period_df.rename(index=str, columns={\"User_id\":\"user_id\"})"
   ]
  },
  {
   "cell_type": "code",
   "execution_count": 159,
   "metadata": {},
   "outputs": [],
   "source": [
    "symptoms = symptom_df.merge(period_df, how='left', on='user_id')"
   ]
  },
  {
   "cell_type": "code",
   "execution_count": 160,
   "metadata": {},
   "outputs": [
    {
     "data": {
      "text/html": [
       "<div>\n",
       "<style scoped>\n",
       "    .dataframe tbody tr th:only-of-type {\n",
       "        vertical-align: middle;\n",
       "    }\n",
       "\n",
       "    .dataframe tbody tr th {\n",
       "        vertical-align: top;\n",
       "    }\n",
       "\n",
       "    .dataframe thead th {\n",
       "        text-align: right;\n",
       "    }\n",
       "</style>\n",
       "<table border=\"1\" class=\"dataframe\">\n",
       "  <thead>\n",
       "    <tr style=\"text-align: right;\">\n",
       "      <th></th>\n",
       "      <th>id_x</th>\n",
       "      <th>user_id</th>\n",
       "      <th>acne</th>\n",
       "      <th>backache</th>\n",
       "      <th>bloating</th>\n",
       "      <th>cramp</th>\n",
       "      <th>diarrhea</th>\n",
       "      <th>dizzy</th>\n",
       "      <th>headache</th>\n",
       "      <th>mood</th>\n",
       "      <th>...</th>\n",
       "      <th>date</th>\n",
       "      <th>Unnamed: 0</th>\n",
       "      <th>dob</th>\n",
       "      <th>cycle_length_initial</th>\n",
       "      <th>period_length_initial</th>\n",
       "      <th>id_y</th>\n",
       "      <th>period_start_cycle_start</th>\n",
       "      <th>period_end</th>\n",
       "      <th>prev_cycle_end_date</th>\n",
       "      <th>cycle_end_date</th>\n",
       "    </tr>\n",
       "  </thead>\n",
       "  <tbody>\n",
       "    <tr>\n",
       "      <th>0</th>\n",
       "      <td>127</td>\n",
       "      <td>252</td>\n",
       "      <td>0</td>\n",
       "      <td>0</td>\n",
       "      <td>0</td>\n",
       "      <td>0</td>\n",
       "      <td>0</td>\n",
       "      <td>0</td>\n",
       "      <td>0</td>\n",
       "      <td>0</td>\n",
       "      <td>...</td>\n",
       "      <td>11/4/15</td>\n",
       "      <td>0.0</td>\n",
       "      <td>NaN</td>\n",
       "      <td>28 days 00:00:00.000000000</td>\n",
       "      <td>6 days 00:00:00.000000000</td>\n",
       "      <td>352.0</td>\n",
       "      <td>2015-04-05</td>\n",
       "      <td>2015-04-10</td>\n",
       "      <td>2015-04-04</td>\n",
       "      <td>2015-05-03</td>\n",
       "    </tr>\n",
       "    <tr>\n",
       "      <th>75</th>\n",
       "      <td>142</td>\n",
       "      <td>252</td>\n",
       "      <td>50</td>\n",
       "      <td>50</td>\n",
       "      <td>0</td>\n",
       "      <td>0</td>\n",
       "      <td>0</td>\n",
       "      <td>0</td>\n",
       "      <td>0</td>\n",
       "      <td>0</td>\n",
       "      <td>...</td>\n",
       "      <td>13/4/15</td>\n",
       "      <td>0.0</td>\n",
       "      <td>NaN</td>\n",
       "      <td>28 days 00:00:00.000000000</td>\n",
       "      <td>6 days 00:00:00.000000000</td>\n",
       "      <td>352.0</td>\n",
       "      <td>2015-04-05</td>\n",
       "      <td>2015-04-10</td>\n",
       "      <td>2015-04-04</td>\n",
       "      <td>2015-05-03</td>\n",
       "    </tr>\n",
       "    <tr>\n",
       "      <th>203</th>\n",
       "      <td>171</td>\n",
       "      <td>252</td>\n",
       "      <td>0</td>\n",
       "      <td>0</td>\n",
       "      <td>0</td>\n",
       "      <td>0</td>\n",
       "      <td>0</td>\n",
       "      <td>0</td>\n",
       "      <td>0</td>\n",
       "      <td>0</td>\n",
       "      <td>...</td>\n",
       "      <td>17/4/15</td>\n",
       "      <td>0.0</td>\n",
       "      <td>NaN</td>\n",
       "      <td>28 days 00:00:00.000000000</td>\n",
       "      <td>6 days 00:00:00.000000000</td>\n",
       "      <td>352.0</td>\n",
       "      <td>2015-04-05</td>\n",
       "      <td>2015-04-10</td>\n",
       "      <td>2015-04-04</td>\n",
       "      <td>2015-05-03</td>\n",
       "    </tr>\n",
       "  </tbody>\n",
       "</table>\n",
       "<p>3 rows × 22 columns</p>\n",
       "</div>"
      ],
      "text/plain": [
       "     id_x  user_id  acne  backache  bloating  cramp  diarrhea  dizzy  \\\n",
       "0     127      252     0         0         0      0         0      0   \n",
       "75    142      252    50        50         0      0         0      0   \n",
       "203   171      252     0         0         0      0         0      0   \n",
       "\n",
       "     headache  mood  ...     date  Unnamed: 0  dob  \\\n",
       "0           0     0  ...  11/4/15         0.0  NaN   \n",
       "75          0     0  ...  13/4/15         0.0  NaN   \n",
       "203         0     0  ...  17/4/15         0.0  NaN   \n",
       "\n",
       "           cycle_length_initial      period_length_initial   id_y  \\\n",
       "0    28 days 00:00:00.000000000  6 days 00:00:00.000000000  352.0   \n",
       "75   28 days 00:00:00.000000000  6 days 00:00:00.000000000  352.0   \n",
       "203  28 days 00:00:00.000000000  6 days 00:00:00.000000000  352.0   \n",
       "\n",
       "    period_start_cycle_start  period_end prev_cycle_end_date cycle_end_date  \n",
       "0                 2015-04-05  2015-04-10          2015-04-04     2015-05-03  \n",
       "75                2015-04-05  2015-04-10          2015-04-04     2015-05-03  \n",
       "203               2015-04-05  2015-04-10          2015-04-04     2015-05-03  \n",
       "\n",
       "[3 rows x 22 columns]"
      ]
     },
     "execution_count": 160,
     "metadata": {},
     "output_type": "execute_result"
    }
   ],
   "source": [
    "symptoms[symptoms.user_id == 252]\n",
    "\n",
    "         "
   ]
  },
  {
   "cell_type": "code",
   "execution_count": 161,
   "metadata": {},
   "outputs": [],
   "source": [
    "# df_new['period_start'] = pd.to_datetime(df_new['period_start'], errors='coerce', infer_datetime_format=True)"
   ]
  },
  {
   "cell_type": "code",
   "execution_count": 162,
   "metadata": {},
   "outputs": [],
   "source": [
    "# null_columns=df_new.columns[df_new.isnull().any()]"
   ]
  },
  {
   "cell_type": "code",
   "execution_count": 163,
   "metadata": {},
   "outputs": [],
   "source": [
    "# symptoms.dropna(inplace=True)"
   ]
  },
  {
   "cell_type": "code",
   "execution_count": 164,
   "metadata": {},
   "outputs": [],
   "source": [
    "symptoms.drop(['id_x', 'Unnamed: 0', 'id_y', 'dob'], axis=1, inplace=True)"
   ]
  },
  {
   "cell_type": "code",
   "execution_count": 165,
   "metadata": {},
   "outputs": [],
   "source": [
    "for label in ['period_start_cycle_start', 'period_end', 'prev_cycle_end_date', 'cycle_end_date']:\n",
    "    symptoms[label] = pd.to_datetime(symptoms[label])"
   ]
  },
  {
   "cell_type": "code",
   "execution_count": 166,
   "metadata": {},
   "outputs": [],
   "source": [
    "symptoms['date'] = pd.to_datetime(symptoms['date'], errors='coerce', dayfirst=True)"
   ]
  },
  {
   "cell_type": "code",
   "execution_count": 167,
   "metadata": {},
   "outputs": [],
   "source": [
    "symptoms['cycle_length_initial'] = pd.to_timedelta(symptoms['cycle_length_initial'], unit=\"D\")\n",
    "symptoms['period_length_initial'] = pd.to_timedelta(symptoms['period_length_initial'], unit=\"D\")"
   ]
  },
  {
   "cell_type": "code",
   "execution_count": 168,
   "metadata": {},
   "outputs": [],
   "source": [
    "symptoms['prev_cycle_start_date'] = symptoms['prev_cycle_end_date'] - symptoms['cycle_length_initial']"
   ]
  },
  {
   "cell_type": "code",
   "execution_count": 169,
   "metadata": {},
   "outputs": [],
   "source": [
    "symptoms['cycle_percentage'] = ( symptoms['date'] - symptoms['period_start_cycle_start'] ) / symptoms['cycle_length_initial']"
   ]
  },
  {
   "cell_type": "code",
   "execution_count": 170,
   "metadata": {},
   "outputs": [],
   "source": [
    "within_cycle =  symptoms[(symptoms['cycle_percentage'] > 0) & (symptoms['cycle_percentage'] < 1)]"
   ]
  },
  {
   "cell_type": "code",
   "execution_count": 171,
   "metadata": {},
   "outputs": [],
   "source": [
    "within_last_cycle = symptoms[(symptoms['cycle_percentage'] > -1) & (symptoms['cycle_percentage'] < 0)]"
   ]
  },
  {
   "cell_type": "code",
   "execution_count": 172,
   "metadata": {},
   "outputs": [
    {
     "name": "stderr",
     "output_type": "stream",
     "text": [
      "/home/deepan/Dropbox/Projects/tender_elion/venv/lib/python3.6/site-packages/ipykernel_launcher.py:1: SettingWithCopyWarning: \n",
      "A value is trying to be set on a copy of a slice from a DataFrame.\n",
      "Try using .loc[row_indexer,col_indexer] = value instead\n",
      "\n",
      "See the caveats in the documentation: http://pandas.pydata.org/pandas-docs/stable/indexing.html#indexing-view-versus-copy\n",
      "  \"\"\"Entry point for launching an IPython kernel.\n"
     ]
    }
   ],
   "source": [
    "within_last_cycle['cycle_percentage'] = ( within_last_cycle['date'] - within_last_cycle['prev_cycle_start_date'] ) / within_last_cycle['cycle_length_initial']"
   ]
  },
  {
   "cell_type": "code",
   "execution_count": 173,
   "metadata": {},
   "outputs": [
    {
     "name": "stdout",
     "output_type": "stream",
     "text": [
      "(10398, 20) (6519, 20)\n"
     ]
    }
   ],
   "source": [
    "print(within_cycle.shape, within_last_cycle.shape)"
   ]
  },
  {
   "cell_type": "code",
   "execution_count": 174,
   "metadata": {},
   "outputs": [],
   "source": [
    "final_df = pd.concat([within_cycle, within_last_cycle], axis=0)"
   ]
  },
  {
   "cell_type": "code",
   "execution_count": 175,
   "metadata": {},
   "outputs": [
    {
     "data": {
      "text/plain": [
       "(16917, 20)"
      ]
     },
     "execution_count": 175,
     "metadata": {},
     "output_type": "execute_result"
    }
   ],
   "source": [
    "final_df.shape"
   ]
  },
  {
   "cell_type": "code",
   "execution_count": 179,
   "metadata": {},
   "outputs": [
    {
     "name": "stdout",
     "output_type": "stream",
     "text": [
      "<class 'pandas.core.frame.DataFrame'>\n",
      "Int64Index: 16917 entries, 0 to 195054\n",
      "Data columns (total 20 columns):\n",
      "user_id                     16917 non-null int64\n",
      "acne                        16917 non-null int64\n",
      "backache                    16917 non-null int64\n",
      "bloating                    16917 non-null int64\n",
      "cramp                       16917 non-null int64\n",
      "diarrhea                    16917 non-null int64\n",
      "dizzy                       16917 non-null int64\n",
      "headache                    16917 non-null int64\n",
      "mood                        16917 non-null int64\n",
      "nausea                      16917 non-null int64\n",
      "sore                        16917 non-null int64\n",
      "date                        16917 non-null datetime64[ns]\n",
      "cycle_length_initial        16917 non-null timedelta64[ns]\n",
      "period_length_initial       16917 non-null timedelta64[ns]\n",
      "period_start_cycle_start    16917 non-null datetime64[ns]\n",
      "period_end                  16917 non-null datetime64[ns]\n",
      "prev_cycle_end_date         16917 non-null datetime64[ns]\n",
      "cycle_end_date              16917 non-null datetime64[ns]\n",
      "prev_cycle_start_date       16917 non-null datetime64[ns]\n",
      "cycle_percentage            16917 non-null float64\n",
      "dtypes: datetime64[ns](6), float64(1), int64(11), timedelta64[ns](2)\n",
      "memory usage: 2.7 MB\n"
     ]
    }
   ],
   "source": [
    "final_df.info()"
   ]
  },
  {
   "cell_type": "code",
   "execution_count": 180,
   "metadata": {},
   "outputs": [
    {
     "data": {
      "text/html": [
       "<div>\n",
       "<style scoped>\n",
       "    .dataframe tbody tr th:only-of-type {\n",
       "        vertical-align: middle;\n",
       "    }\n",
       "\n",
       "    .dataframe tbody tr th {\n",
       "        vertical-align: top;\n",
       "    }\n",
       "\n",
       "    .dataframe thead th {\n",
       "        text-align: right;\n",
       "    }\n",
       "</style>\n",
       "<table border=\"1\" class=\"dataframe\">\n",
       "  <thead>\n",
       "    <tr style=\"text-align: right;\">\n",
       "      <th></th>\n",
       "      <th>user_id</th>\n",
       "      <th>acne</th>\n",
       "      <th>backache</th>\n",
       "      <th>bloating</th>\n",
       "      <th>cramp</th>\n",
       "      <th>diarrhea</th>\n",
       "      <th>dizzy</th>\n",
       "      <th>headache</th>\n",
       "      <th>mood</th>\n",
       "      <th>nausea</th>\n",
       "      <th>sore</th>\n",
       "      <th>cycle_length_initial</th>\n",
       "      <th>period_length_initial</th>\n",
       "      <th>cycle_percentage</th>\n",
       "    </tr>\n",
       "  </thead>\n",
       "  <tbody>\n",
       "    <tr>\n",
       "      <th>count</th>\n",
       "      <td>16917.000000</td>\n",
       "      <td>16917.000000</td>\n",
       "      <td>16917.000000</td>\n",
       "      <td>16917.000000</td>\n",
       "      <td>16917.000000</td>\n",
       "      <td>16917.000000</td>\n",
       "      <td>16917.000000</td>\n",
       "      <td>16917.000000</td>\n",
       "      <td>16917.000000</td>\n",
       "      <td>16917.000000</td>\n",
       "      <td>16917.000000</td>\n",
       "      <td>16917</td>\n",
       "      <td>16917</td>\n",
       "      <td>16917.000000</td>\n",
       "    </tr>\n",
       "    <tr>\n",
       "      <th>mean</th>\n",
       "      <td>3522.971567</td>\n",
       "      <td>10.804753</td>\n",
       "      <td>17.293255</td>\n",
       "      <td>18.469764</td>\n",
       "      <td>24.758704</td>\n",
       "      <td>6.510315</td>\n",
       "      <td>5.883667</td>\n",
       "      <td>14.976651</td>\n",
       "      <td>19.936218</td>\n",
       "      <td>6.607200</td>\n",
       "      <td>14.651830</td>\n",
       "      <td>28 days 15:55:08.884553</td>\n",
       "      <td>5 days 14:46:22.195424</td>\n",
       "      <td>0.430031</td>\n",
       "    </tr>\n",
       "    <tr>\n",
       "      <th>std</th>\n",
       "      <td>1869.271500</td>\n",
       "      <td>21.203897</td>\n",
       "      <td>28.427643</td>\n",
       "      <td>28.945317</td>\n",
       "      <td>32.859893</td>\n",
       "      <td>18.070838</td>\n",
       "      <td>17.095204</td>\n",
       "      <td>26.790871</td>\n",
       "      <td>31.260061</td>\n",
       "      <td>18.696963</td>\n",
       "      <td>27.330372</td>\n",
       "      <td>2 days 17:08:38.143691</td>\n",
       "      <td>2 days 03:09:37.301652</td>\n",
       "      <td>0.353506</td>\n",
       "    </tr>\n",
       "    <tr>\n",
       "      <th>min</th>\n",
       "      <td>252.000000</td>\n",
       "      <td>0.000000</td>\n",
       "      <td>0.000000</td>\n",
       "      <td>0.000000</td>\n",
       "      <td>0.000000</td>\n",
       "      <td>0.000000</td>\n",
       "      <td>0.000000</td>\n",
       "      <td>0.000000</td>\n",
       "      <td>0.000000</td>\n",
       "      <td>0.000000</td>\n",
       "      <td>0.000000</td>\n",
       "      <td>25 days 00:00:00</td>\n",
       "      <td>2 days 00:00:00</td>\n",
       "      <td>0.025000</td>\n",
       "    </tr>\n",
       "    <tr>\n",
       "      <th>25%</th>\n",
       "      <td>2025.000000</td>\n",
       "      <td>0.000000</td>\n",
       "      <td>0.000000</td>\n",
       "      <td>0.000000</td>\n",
       "      <td>0.000000</td>\n",
       "      <td>0.000000</td>\n",
       "      <td>0.000000</td>\n",
       "      <td>0.000000</td>\n",
       "      <td>0.000000</td>\n",
       "      <td>0.000000</td>\n",
       "      <td>0.000000</td>\n",
       "      <td>28 days 00:00:00</td>\n",
       "      <td>5 days 00:00:00</td>\n",
       "      <td>0.103448</td>\n",
       "    </tr>\n",
       "    <tr>\n",
       "      <th>50%</th>\n",
       "      <td>3375.000000</td>\n",
       "      <td>0.000000</td>\n",
       "      <td>0.000000</td>\n",
       "      <td>0.000000</td>\n",
       "      <td>0.000000</td>\n",
       "      <td>0.000000</td>\n",
       "      <td>0.000000</td>\n",
       "      <td>0.000000</td>\n",
       "      <td>0.000000</td>\n",
       "      <td>0.000000</td>\n",
       "      <td>0.000000</td>\n",
       "      <td>28 days 00:00:00</td>\n",
       "      <td>5 days 00:00:00</td>\n",
       "      <td>0.285714</td>\n",
       "    </tr>\n",
       "    <tr>\n",
       "      <th>75%</th>\n",
       "      <td>5045.000000</td>\n",
       "      <td>14.000000</td>\n",
       "      <td>30.000000</td>\n",
       "      <td>33.000000</td>\n",
       "      <td>46.000000</td>\n",
       "      <td>0.000000</td>\n",
       "      <td>0.000000</td>\n",
       "      <td>23.000000</td>\n",
       "      <td>35.000000</td>\n",
       "      <td>0.000000</td>\n",
       "      <td>20.000000</td>\n",
       "      <td>29 days 00:00:00</td>\n",
       "      <td>7 days 00:00:00</td>\n",
       "      <td>0.821429</td>\n",
       "    </tr>\n",
       "    <tr>\n",
       "      <th>max</th>\n",
       "      <td>7054.000000</td>\n",
       "      <td>100.000000</td>\n",
       "      <td>100.000000</td>\n",
       "      <td>100.000000</td>\n",
       "      <td>100.000000</td>\n",
       "      <td>100.000000</td>\n",
       "      <td>100.000000</td>\n",
       "      <td>100.000000</td>\n",
       "      <td>100.000000</td>\n",
       "      <td>100.000000</td>\n",
       "      <td>100.000000</td>\n",
       "      <td>40 days 00:00:00</td>\n",
       "      <td>35 days 00:00:00</td>\n",
       "      <td>1.000000</td>\n",
       "    </tr>\n",
       "  </tbody>\n",
       "</table>\n",
       "</div>"
      ],
      "text/plain": [
       "            user_id          acne      backache      bloating         cramp  \\\n",
       "count  16917.000000  16917.000000  16917.000000  16917.000000  16917.000000   \n",
       "mean    3522.971567     10.804753     17.293255     18.469764     24.758704   \n",
       "std     1869.271500     21.203897     28.427643     28.945317     32.859893   \n",
       "min      252.000000      0.000000      0.000000      0.000000      0.000000   \n",
       "25%     2025.000000      0.000000      0.000000      0.000000      0.000000   \n",
       "50%     3375.000000      0.000000      0.000000      0.000000      0.000000   \n",
       "75%     5045.000000     14.000000     30.000000     33.000000     46.000000   \n",
       "max     7054.000000    100.000000    100.000000    100.000000    100.000000   \n",
       "\n",
       "           diarrhea         dizzy      headache          mood        nausea  \\\n",
       "count  16917.000000  16917.000000  16917.000000  16917.000000  16917.000000   \n",
       "mean       6.510315      5.883667     14.976651     19.936218      6.607200   \n",
       "std       18.070838     17.095204     26.790871     31.260061     18.696963   \n",
       "min        0.000000      0.000000      0.000000      0.000000      0.000000   \n",
       "25%        0.000000      0.000000      0.000000      0.000000      0.000000   \n",
       "50%        0.000000      0.000000      0.000000      0.000000      0.000000   \n",
       "75%        0.000000      0.000000     23.000000     35.000000      0.000000   \n",
       "max      100.000000    100.000000    100.000000    100.000000    100.000000   \n",
       "\n",
       "               sore     cycle_length_initial   period_length_initial  \\\n",
       "count  16917.000000                    16917                   16917   \n",
       "mean      14.651830  28 days 15:55:08.884553  5 days 14:46:22.195424   \n",
       "std       27.330372   2 days 17:08:38.143691  2 days 03:09:37.301652   \n",
       "min        0.000000         25 days 00:00:00         2 days 00:00:00   \n",
       "25%        0.000000         28 days 00:00:00         5 days 00:00:00   \n",
       "50%        0.000000         28 days 00:00:00         5 days 00:00:00   \n",
       "75%       20.000000         29 days 00:00:00         7 days 00:00:00   \n",
       "max      100.000000         40 days 00:00:00        35 days 00:00:00   \n",
       "\n",
       "       cycle_percentage  \n",
       "count      16917.000000  \n",
       "mean           0.430031  \n",
       "std            0.353506  \n",
       "min            0.025000  \n",
       "25%            0.103448  \n",
       "50%            0.285714  \n",
       "75%            0.821429  \n",
       "max            1.000000  "
      ]
     },
     "execution_count": 180,
     "metadata": {},
     "output_type": "execute_result"
    }
   ],
   "source": [
    "final_df.describe()"
   ]
  },
  {
   "cell_type": "code",
   "execution_count": 181,
   "metadata": {},
   "outputs": [],
   "source": [
    "final_df.to_pickle('processed_symptoms.pkl')"
   ]
  },
  {
   "cell_type": "code",
   "execution_count": 182,
   "metadata": {},
   "outputs": [
    {
     "name": "stdout",
     "output_type": "stream",
     "text": [
      "25 0\n",
      "26 0\n",
      "27 0\n",
      "28 0\n",
      "29 0\n",
      "30 0\n",
      "31 0\n",
      "32 0\n",
      "33 0\n",
      "34 0\n",
      "35 0\n",
      "36 0\n",
      "37 0\n",
      "38 0\n",
      "39 0\n"
     ]
    }
   ],
   "source": [
    "# for x in range(25, 40):\n",
    "#     print(x, len(final_df[final_df.cycle_length_initial == x]))"
   ]
  },
  {
   "cell_type": "code",
   "execution_count": null,
   "metadata": {},
   "outputs": [],
   "source": []
  }
 ],
 "metadata": {
  "kernelspec": {
   "display_name": "Python 3",
   "language": "python",
   "name": "python3"
  },
  "language_info": {
   "codemirror_mode": {
    "name": "ipython",
    "version": 3
   },
   "file_extension": ".py",
   "mimetype": "text/x-python",
   "name": "python",
   "nbconvert_exporter": "python",
   "pygments_lexer": "ipython3",
   "version": "3.6.7"
  }
 },
 "nbformat": 4,
 "nbformat_minor": 2
}
